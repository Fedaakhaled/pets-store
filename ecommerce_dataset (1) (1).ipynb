{
  "cells": [
    {
      "cell_type": "code",
      "execution_count": null,
      "metadata": {
        "id": "VpdfzvJDaZKM"
      },
      "outputs": [],
      "source": [
        "import pandas as pd\n",
        "import numpy as np\n",
        "import matplotlib.pyplot as plt\n",
        "import seaborn as sns"
      ]
    },
    {
      "cell_type": "code",
      "execution_count": null,
      "metadata": {
        "id": "BNyA6RgVawwp"
      },
      "outputs": [],
      "source": [
        "cd = pd.read_csv('dim_customers.csv') # cd= customers data\n",
        "sd = pd.read_csv('fact_sales.csv') # sd= sales data"
      ]
    },
    {
      "cell_type": "code",
      "execution_count": null,
      "metadata": {
        "colab": {
          "base_uri": "https://localhost:8080/"
        },
        "id": "KRbkX1mTbAJH",
        "outputId": "6587340f-5613-4c36-f974-834282c2afff"
      },
      "outputs": [
        {
          "output_type": "stream",
          "name": "stdout",
          "text": [
            "   Customer ID    Order City Order Postal Order State  Latitude  Longitude\n",
            "0        18287  Rock Springs   82901-7321          WY   41.5869  -109.2048\n",
            "1        18283       JACKSON   83001-9460          WY   43.4800  -110.7618\n",
            "2        18282      Greybull        82426          WY   44.4892  -108.0562\n",
            "3        18281      EVANSTON   82930-4706          WY   41.2680  -110.9633\n",
            "4        18280      CHEYENNE   82001-7901          WY   41.1400  -104.8202\n",
            "<class 'pandas.core.frame.DataFrame'>\n",
            "RangeIndex: 4372 entries, 0 to 4371\n",
            "Data columns (total 6 columns):\n",
            " #   Column        Non-Null Count  Dtype  \n",
            "---  ------        --------------  -----  \n",
            " 0   Customer ID   4372 non-null   int64  \n",
            " 1   Order City    4372 non-null   object \n",
            " 2   Order Postal  4372 non-null   object \n",
            " 3   Order State   4372 non-null   object \n",
            " 4   Latitude      4282 non-null   float64\n",
            " 5   Longitude     4282 non-null   float64\n",
            "dtypes: float64(2), int64(1), object(3)\n",
            "memory usage: 205.1+ KB\n",
            "None\n",
            "        Customer ID     Latitude    Longitude\n",
            "count   4372.000000  4282.000000  4282.000000\n",
            "mean   15299.677722    37.785725   -92.339507\n",
            "std     1722.390705     5.304073    17.368989\n",
            "min    12346.000000    19.920000  -158.185900\n",
            "25%    13812.750000    33.987950  -105.124400\n",
            "50%    15300.500000    38.882300   -86.635150\n",
            "75%    16778.250000    41.360600   -77.968400\n",
            "max    18287.000000    61.216300   -68.569100\n"
          ]
        }
      ],
      "source": [
        "print(cd.head()) #معرفة شكل المعلومات\n",
        "print(cd.info())\n",
        "print(cd.describe())"
      ]
    },
    {
      "cell_type": "code",
      "execution_count": null,
      "metadata": {
        "colab": {
          "base_uri": "https://localhost:8080/"
        },
        "id": "9JIhfz9tbgaI",
        "outputId": "25ce2ef4-7055-4292-89d1-fcef5769bfe4"
      },
      "outputs": [
        {
          "output_type": "stream",
          "name": "stdout",
          "text": [
            "Customer ID      0\n",
            "Order City       0\n",
            "Order Postal     0\n",
            "Order State      0\n",
            "Latitude        90\n",
            "Longitude       90\n",
            "dtype: int64\n"
          ]
        }
      ],
      "source": [
        "print(cd.isnull().sum()) # null cells"
      ]
    },
    {
      "cell_type": "code",
      "execution_count": null,
      "metadata": {
        "id": "E1pk9vVBbyaN"
      },
      "outputs": [],
      "source": [
        "cd.drop(columns=['Latitude','Longitude','Order Postal'], inplace=True) # delete unwanted columns\n"
      ]
    },
    {
      "cell_type": "code",
      "source": [
        "state_abbreviations =  {\n",
        "    'alabama': 'al', 'alaska': 'ak', 'arizona': 'az', 'arkansas': 'ar', 'california': 'ca',\n",
        "    'colorado': 'co', 'connecticut': 'ct', 'delaware': 'de', 'florida': 'fl', 'georgia': 'ga',\n",
        "    'hawaii': 'hi', 'idaho': 'id', 'illinois': 'il', 'indiana': 'in', 'iowa': 'ia',\n",
        "    'kansas': 'ks', 'kentucky': 'ky', 'louisiana': 'la', 'maine': 'me', 'maryland': 'md',\n",
        "    'massachusetts': 'ma', 'michigan': 'mi', 'minnesota': 'mn', 'mississippi': 'ms', 'missouri': 'mo',\n",
        "    'montana': 'mt', 'nebraska': 'ne', 'nevada': 'nv', 'new hampshire': 'nh', 'new jersey': 'nj',\n",
        "    'new mexico': 'nm', 'new york': 'ny', 'north carolina': 'nc', 'north dakota': 'nd',\n",
        "    'ohio': 'oh', 'oklahoma': 'ok', 'oregon': 'or', 'pennsylvania': 'pa', 'rhode island': 'ri',\n",
        "    'south carolina': 'sc', 'south dakota': 'sd', 'tennessee': 'tn', 'texas': 'tx',\n",
        "    'utah': 'ut', 'vermont': 'vt', 'virginia': 'va', 'washington': 'wa', 'west virginia': 'wv',\n",
        "    'wisconsin': 'wi', 'wyoming': 'wy'\n",
        "} #replace names of states to abbreviation"
      ],
      "metadata": {
        "id": "0gXUsnBeG1GH"
      },
      "execution_count": null,
      "outputs": []
    },
    {
      "cell_type": "code",
      "source": [
        "cd['Order State'] = cd['Order State'].replace(state_abbreviations)\n",
        "\n",
        "print(cd)"
      ],
      "metadata": {
        "colab": {
          "base_uri": "https://localhost:8080/"
        },
        "id": "rAELQVqxG3rE",
        "outputId": "bc9750d9-cb99-46ff-91e1-0f29baf40f69"
      },
      "execution_count": null,
      "outputs": [
        {
          "output_type": "stream",
          "name": "stdout",
          "text": [
            "      Customer ID            Order City Order State\n",
            "0           18287          Rock Springs          WY\n",
            "1           18283               JACKSON          WY\n",
            "2           18282              Greybull          WY\n",
            "3           18281              EVANSTON          WY\n",
            "4           18280              CHEYENNE          WY\n",
            "...           ...                   ...         ...\n",
            "4367        12350             RIVERSIDE          CA\n",
            "4368        12349             RIO VISTA          CA\n",
            "4369        12348  Rancho Santa Margari          CA\n",
            "4370        12347         Pleasant Hill          CA\n",
            "4371        12346           PALM DESERT          CA\n",
            "\n",
            "[4372 rows x 3 columns]\n"
          ]
        }
      ]
    },
    {
      "cell_type": "code",
      "source": [
        "print(cd.iloc[694]) # التأكد من معلومات احد الصفوف"
      ],
      "metadata": {
        "colab": {
          "base_uri": "https://localhost:8080/"
        },
        "id": "pIjRXaZoPJG2",
        "outputId": "2726bd33-95b5-44e1-d531-dd301dd08dc6"
      },
      "execution_count": null,
      "outputs": [
        {
          "output_type": "stream",
          "name": "stdout",
          "text": [
            "Customer ID         17347\n",
            "Order City     CROSSVILLE\n",
            "Order State            TN\n",
            "Name: 694, dtype: object\n"
          ]
        }
      ]
    },
    {
      "cell_type": "code",
      "source": [
        "cd = cd.applymap(lambda x: x.strip().lower() if isinstance(x, str) else x) # make the data lower and strip the cells"
      ],
      "metadata": {
        "colab": {
          "base_uri": "https://localhost:8080/"
        },
        "id": "MpJUhEzDEEr0",
        "outputId": "f8eba04d-bbca-4da2-ca2f-575817385c58"
      },
      "execution_count": null,
      "outputs": [
        {
          "output_type": "stream",
          "name": "stderr",
          "text": [
            "<ipython-input-84-ad467babbe2b>:1: FutureWarning: DataFrame.applymap has been deprecated. Use DataFrame.map instead.\n",
            "  cd = cd.applymap(lambda x: x.strip().lower() if isinstance(x, str) else x)\n"
          ]
        }
      ]
    },
    {
      "cell_type": "code",
      "source": [
        "cd.to_csv(\"clean_customers_2.csv\", index=False) #حفظ الملف"
      ],
      "metadata": {
        "id": "VaEiVbXAHfxv"
      },
      "execution_count": null,
      "outputs": []
    },
    {
      "cell_type": "code",
      "source": [
        "print(sd.head())\n",
        "print(sd.info())\n",
        "print(sd.describe())"
      ],
      "metadata": {
        "colab": {
          "base_uri": "https://localhost:8080/"
        },
        "id": "ZsP8_i-SILPS",
        "outputId": "44d05dc7-f32e-4340-d27f-d132fc71d933"
      },
      "execution_count": null,
      "outputs": [
        {
          "output_type": "stream",
          "name": "stdout",
          "text": [
            "  Transaction Date  Customer ID  \\\n",
            "0   12/1/2020 8:26      17850.0   \n",
            "1   12/1/2020 8:34      13047.0   \n",
            "2   12/1/2020 8:34      13047.0   \n",
            "3   12/1/2020 9:00      13748.0   \n",
            "4   12/1/2020 9:02      17850.0   \n",
            "\n",
            "                                         Description Stock Code  Invoice No  \\\n",
            "0                                 Dog and Puppy Pads     85123A    536365.0   \n",
            "1                                Pet Odor Eliminator      84879    536367.0   \n",
            "2                      Rechargeable Pet Nail Grinder      22960    536368.0   \n",
            "3  Litter Slide Multi-Cat Scented Clumping Clay C...      22086    536371.0   \n",
            "4                                 Dog and Puppy Pads     85123A    536373.0   \n",
            "\n",
            "   Quantity   Sales  Unit Price  \n",
            "0         1   15.30       15.30  \n",
            "1         6   60.84       10.14  \n",
            "2         1   25.50       25.50  \n",
            "3        14  214.20       15.30  \n",
            "4         1   15.30       15.30  \n",
            "<class 'pandas.core.frame.DataFrame'>\n",
            "RangeIndex: 25065 entries, 0 to 25064\n",
            "Data columns (total 8 columns):\n",
            " #   Column            Non-Null Count  Dtype  \n",
            "---  ------            --------------  -----  \n",
            " 0   Transaction Date  25065 non-null  object \n",
            " 1   Customer ID       20649 non-null  float64\n",
            " 2   Description       25065 non-null  object \n",
            " 3   Stock Code        25065 non-null  object \n",
            " 4   Invoice No        24404 non-null  float64\n",
            " 5   Quantity          25065 non-null  int64  \n",
            " 6   Sales             25065 non-null  float64\n",
            " 7   Unit Price        25065 non-null  float64\n",
            "dtypes: float64(4), int64(1), object(3)\n",
            "memory usage: 1.5+ MB\n",
            "None\n",
            "       Customer ID     Invoice No      Quantity         Sales    Unit Price\n",
            "count  20649.00000   24404.000000  25065.000000  25065.000000  25065.000000\n",
            "mean   15288.80217  559952.514793      2.981408     61.082257     28.771337\n",
            "std     1692.08989   12755.865862     11.905880    289.275933     41.807294\n",
            "min    12347.00000  536365.000000   -321.000000  -4911.300000      0.000000\n",
            "25%    13884.00000  549568.000000      1.000000     20.280000     12.480000\n",
            "50%    15152.00000  560223.500000      1.000000     29.700000     23.700000\n",
            "75%    16762.00000  570871.000000      2.000000     59.400000     29.700000\n",
            "max    18287.00000  581585.000000    717.000000  38970.000000   3897.000000\n"
          ]
        }
      ]
    },
    {
      "cell_type": "code",
      "source": [
        "print(sd.isnull().sum())"
      ],
      "metadata": {
        "colab": {
          "base_uri": "https://localhost:8080/"
        },
        "id": "0Md55cI-Iwum",
        "outputId": "b3e9fbca-9cac-491d-a893-1d37e6fb89aa"
      },
      "execution_count": null,
      "outputs": [
        {
          "output_type": "stream",
          "name": "stdout",
          "text": [
            "Transaction Date       0\n",
            "Customer ID         4416\n",
            "Description            0\n",
            "Stock Code             0\n",
            "Invoice No           661\n",
            "Quantity               0\n",
            "Sales                  0\n",
            "Unit Price             0\n",
            "dtype: int64\n"
          ]
        }
      ]
    },
    {
      "cell_type": "code",
      "source": [
        "duplicate_rows = sd[sd.duplicated(subset=['Customer ID', 'Invoice No', 'Stock Code','Quantity'], keep=False)]# معرفة الصفوف المتكررة\n",
        "print(duplicate_rows)"
      ],
      "metadata": {
        "id": "4n56IuYMpbgS",
        "colab": {
          "base_uri": "https://localhost:8080/"
        },
        "outputId": "cbb92fb5-47bc-47f2-c570-a92a744bacb8"
      },
      "execution_count": null,
      "outputs": [
        {
          "output_type": "stream",
          "name": "stdout",
          "text": [
            "      Transaction Date  Customer ID  \\\n",
            "244    12/3/2020 11:36          NaN   \n",
            "245    12/3/2020 11:36          NaN   \n",
            "454    12/6/2020 13:17      16550.0   \n",
            "492    12/6/2020 15:12      13481.0   \n",
            "544    12/7/2020 12:45      17511.0   \n",
            "...                ...          ...   \n",
            "24045   12/1/2021 9:19      14389.0   \n",
            "24650  12/6/2021 14:07      16571.0   \n",
            "24902  12/8/2021 11:21          NaN   \n",
            "24903  12/8/2021 11:21          NaN   \n",
            "25005  12/8/2021 19:28      17924.0   \n",
            "\n",
            "                                             Description Stock Code  \\\n",
            "244                                  Pet Odor Eliminator      84879   \n",
            "245                                  Pet Odor Eliminator      84879   \n",
            "454              Sheba Perfect Portions Pat Wet Cat Food      22197   \n",
            "492                        Rechargeable Pet Nail Grinder      22960   \n",
            "544                                   Dog and Puppy Pads     85123A   \n",
            "...                                                  ...        ...   \n",
            "24045                          Earth Rated Dog Poop Bags     85099B   \n",
            "24650                   UltraSound Dog Barking Deterrent      22720   \n",
            "24902  Taste of the Wild High Prairie Grain-Free Dry ...      22423   \n",
            "24903  Taste of the Wild High Prairie Grain-Free Dry ...      22423   \n",
            "25005                         Templation Soft Cat Treats      23084   \n",
            "\n",
            "       Invoice No  Quantity   Sales  Unit Price  \n",
            "244      536876.0         2   20.28       10.14  \n",
            "245      536876.0         2   38.28       19.14  \n",
            "454           NaN         0    0.00        5.10  \n",
            "492           NaN         0    0.00       25.50  \n",
            "544           NaN         0    0.00       15.30  \n",
            "...           ...       ...     ...         ...  \n",
            "24045         NaN         0    0.00       12.48  \n",
            "24650         NaN         0    0.00       29.70  \n",
            "24902    581256.0         1  149.76      149.76  \n",
            "24903    581256.0         1  192.24      192.24  \n",
            "25005         NaN         0    0.00       12.48  \n",
            "\n",
            "[263 rows x 8 columns]\n"
          ]
        }
      ]
    },
    {
      "cell_type": "code",
      "source": [
        "sd_cleaned = sd.drop_duplicates(subset=['Customer ID', 'Invoice No', 'Stock Code','Quantity'], keep=False)#مسح السفوف المتكررة"
      ],
      "metadata": {
        "id": "buOmwYzbspSd"
      },
      "execution_count": null,
      "outputs": []
    },
    {
      "cell_type": "code",
      "source": [
        "sd_cleaned.duplicated(subset=['Invoice No']).sum()"
      ],
      "metadata": {
        "colab": {
          "base_uri": "https://localhost:8080/"
        },
        "id": "2_REa4Ast4QF",
        "outputId": "796f8378-2aa9-4dc8-b1a2-b672f56d77bb"
      },
      "execution_count": null,
      "outputs": [
        {
          "output_type": "execute_result",
          "data": {
            "text/plain": [
              "13374"
            ]
          },
          "metadata": {},
          "execution_count": 90
        }
      ]
    },
    {
      "cell_type": "code",
      "execution_count": null,
      "metadata": {
        "id": "45pKEoVRcKk5"
      },
      "outputs": [],
      "source": [
        "unique_products_per_invoice = sd.groupby('Invoice No')['Description'].nunique()"
      ]
    },
    {
      "cell_type": "code",
      "source": [
        "sd_cleaned = sd_cleaned.applymap(lambda x: x.strip().lower() if isinstance(x, str) else x)"
      ],
      "metadata": {
        "colab": {
          "base_uri": "https://localhost:8080/"
        },
        "id": "3V-ZJb_1KgtN",
        "outputId": "5b007eae-2973-48c7-9075-cfd31d33b265"
      },
      "execution_count": null,
      "outputs": [
        {
          "output_type": "stream",
          "name": "stderr",
          "text": [
            "<ipython-input-100-59573be54449>:1: FutureWarning: DataFrame.applymap has been deprecated. Use DataFrame.map instead.\n",
            "  sd_cleaned = sd_cleaned.applymap(lambda x: x.strip().lower() if isinstance(x, str) else x)\n"
          ]
        }
      ]
    },
    {
      "cell_type": "code",
      "source": [
        "print(sd_cleaned.head(1540))"
      ],
      "metadata": {
        "colab": {
          "base_uri": "https://localhost:8080/"
        },
        "id": "gPBRFqlTSrON",
        "outputId": "e709d997-14ec-47d1-d791-e87c155e294b"
      },
      "execution_count": null,
      "outputs": [
        {
          "output_type": "stream",
          "name": "stdout",
          "text": [
            "      Transaction Date  Customer ID  \\\n",
            "0       12/1/2020 8:26      17850.0   \n",
            "1       12/1/2020 8:34      13047.0   \n",
            "2       12/1/2020 8:34      13047.0   \n",
            "3       12/1/2020 9:00      13748.0   \n",
            "4       12/1/2020 9:02      17850.0   \n",
            "...                ...          ...   \n",
            "1553  12/21/2020 15:19          NaN   \n",
            "1554  12/21/2020 15:19          NaN   \n",
            "1555  12/21/2020 15:19          NaN   \n",
            "1556  12/21/2020 15:19          NaN   \n",
            "1557  12/21/2020 15:19          NaN   \n",
            "\n",
            "                                            Description Stock Code  \\\n",
            "0                                    Dog and Puppy Pads     85123A   \n",
            "1                                   Pet Odor Eliminator      84879   \n",
            "2                         Rechargeable Pet Nail Grinder      22960   \n",
            "3     Litter Slide Multi-Cat Scented Clumping Clay C...      22086   \n",
            "4                                    Dog and Puppy Pads     85123A   \n",
            "...                                                 ...        ...   \n",
            "1553  Memory Foam Pet Beds for Small, Medium, and La...      47566   \n",
            "1554     Milk-Bone MaroSnacks Dog Treats with Real Bone      22386   \n",
            "1555     Milk-Bone MaroSnacks Dog Treats with Real Bone      22386   \n",
            "1556                      Rechargeable Pet Nail Grinder      22960   \n",
            "1557            Sheba Perfect Portions Pat Wet Cat Food      22197   \n",
            "\n",
            "      Invoice No  Quantity   Sales  Unit Price  \n",
            "0       536365.0         1   15.30       15.30  \n",
            "1       536367.0         6   60.84       10.14  \n",
            "2       536368.0         1   25.50       25.50  \n",
            "3       536371.0        14  214.20       15.30  \n",
            "4       536373.0         1   15.30       15.30  \n",
            "...          ...       ...     ...         ...  \n",
            "1553    539738.0         1   55.92       55.92  \n",
            "1554    539738.0         1   30.36       30.36  \n",
            "1555    539739.0         1   30.36       30.36  \n",
            "1556    539739.0         1   50.82       50.82  \n",
            "1557    539737.0         2   19.92        9.96  \n",
            "\n",
            "[1540 rows x 8 columns]\n"
          ]
        }
      ]
    },
    {
      "cell_type": "markdown",
      "source": [],
      "metadata": {
        "id": "SC_jaOjqd0Xr"
      }
    },
    {
      "cell_type": "code",
      "source": [
        "sd_cleaned['Customer ID'] = sd['Customer ID'].fillna('Unknown') #تبديل الاماكن الفارغة في اكواد العملاء"
      ],
      "metadata": {
        "id": "2BYetAtkKzut"
      },
      "execution_count": null,
      "outputs": []
    },
    {
      "cell_type": "code",
      "source": [
        "sd_cleaned.isnull().sum() # know the null values"
      ],
      "metadata": {
        "colab": {
          "base_uri": "https://localhost:8080/",
          "height": 335
        },
        "id": "_v8aPpN-s9gW",
        "outputId": "7aa06972-9219-4039-be85-f570eae07b6e"
      },
      "execution_count": null,
      "outputs": [
        {
          "output_type": "execute_result",
          "data": {
            "text/plain": [
              "Transaction Date      0\n",
              "Customer ID           0\n",
              "Description           0\n",
              "Stock Code            0\n",
              "Invoice No          460\n",
              "Quantity              0\n",
              "Sales                 0\n",
              "Unit Price            0\n",
              "dtype: int64"
            ],
            "text/html": [
              "<div>\n",
              "<style scoped>\n",
              "    .dataframe tbody tr th:only-of-type {\n",
              "        vertical-align: middle;\n",
              "    }\n",
              "\n",
              "    .dataframe tbody tr th {\n",
              "        vertical-align: top;\n",
              "    }\n",
              "\n",
              "    .dataframe thead th {\n",
              "        text-align: right;\n",
              "    }\n",
              "</style>\n",
              "<table border=\"1\" class=\"dataframe\">\n",
              "  <thead>\n",
              "    <tr style=\"text-align: right;\">\n",
              "      <th></th>\n",
              "      <th>0</th>\n",
              "    </tr>\n",
              "  </thead>\n",
              "  <tbody>\n",
              "    <tr>\n",
              "      <th>Transaction Date</th>\n",
              "      <td>0</td>\n",
              "    </tr>\n",
              "    <tr>\n",
              "      <th>Customer ID</th>\n",
              "      <td>0</td>\n",
              "    </tr>\n",
              "    <tr>\n",
              "      <th>Description</th>\n",
              "      <td>0</td>\n",
              "    </tr>\n",
              "    <tr>\n",
              "      <th>Stock Code</th>\n",
              "      <td>0</td>\n",
              "    </tr>\n",
              "    <tr>\n",
              "      <th>Invoice No</th>\n",
              "      <td>460</td>\n",
              "    </tr>\n",
              "    <tr>\n",
              "      <th>Quantity</th>\n",
              "      <td>0</td>\n",
              "    </tr>\n",
              "    <tr>\n",
              "      <th>Sales</th>\n",
              "      <td>0</td>\n",
              "    </tr>\n",
              "    <tr>\n",
              "      <th>Unit Price</th>\n",
              "      <td>0</td>\n",
              "    </tr>\n",
              "  </tbody>\n",
              "</table>\n",
              "</div><br><label><b>dtype:</b> int64</label>"
            ]
          },
          "metadata": {},
          "execution_count": 102
        }
      ]
    },
    {
      "cell_type": "code",
      "source": [
        "sd_cleaned = sd_cleaned.dropna(subset=['Invoice No']) #delete nulls"
      ],
      "metadata": {
        "id": "Gmc7tiATNKMW"
      },
      "execution_count": null,
      "outputs": []
    },
    {
      "cell_type": "code",
      "source": [
        "sd_cleaned.isnull().sum()"
      ],
      "metadata": {
        "colab": {
          "base_uri": "https://localhost:8080/",
          "height": 335
        },
        "outputId": "af8fea48-f4c9-4c9f-b0fe-c30b30396b69",
        "id": "KZqilSqwNpoC"
      },
      "execution_count": null,
      "outputs": [
        {
          "output_type": "execute_result",
          "data": {
            "text/plain": [
              "Transaction Date    0\n",
              "Customer ID         0\n",
              "Description         0\n",
              "Stock Code          0\n",
              "Invoice No          0\n",
              "Quantity            0\n",
              "Sales               0\n",
              "Unit Price          0\n",
              "dtype: int64"
            ],
            "text/html": [
              "<div>\n",
              "<style scoped>\n",
              "    .dataframe tbody tr th:only-of-type {\n",
              "        vertical-align: middle;\n",
              "    }\n",
              "\n",
              "    .dataframe tbody tr th {\n",
              "        vertical-align: top;\n",
              "    }\n",
              "\n",
              "    .dataframe thead th {\n",
              "        text-align: right;\n",
              "    }\n",
              "</style>\n",
              "<table border=\"1\" class=\"dataframe\">\n",
              "  <thead>\n",
              "    <tr style=\"text-align: right;\">\n",
              "      <th></th>\n",
              "      <th>0</th>\n",
              "    </tr>\n",
              "  </thead>\n",
              "  <tbody>\n",
              "    <tr>\n",
              "      <th>Transaction Date</th>\n",
              "      <td>0</td>\n",
              "    </tr>\n",
              "    <tr>\n",
              "      <th>Customer ID</th>\n",
              "      <td>0</td>\n",
              "    </tr>\n",
              "    <tr>\n",
              "      <th>Description</th>\n",
              "      <td>0</td>\n",
              "    </tr>\n",
              "    <tr>\n",
              "      <th>Stock Code</th>\n",
              "      <td>0</td>\n",
              "    </tr>\n",
              "    <tr>\n",
              "      <th>Invoice No</th>\n",
              "      <td>0</td>\n",
              "    </tr>\n",
              "    <tr>\n",
              "      <th>Quantity</th>\n",
              "      <td>0</td>\n",
              "    </tr>\n",
              "    <tr>\n",
              "      <th>Sales</th>\n",
              "      <td>0</td>\n",
              "    </tr>\n",
              "    <tr>\n",
              "      <th>Unit Price</th>\n",
              "      <td>0</td>\n",
              "    </tr>\n",
              "  </tbody>\n",
              "</table>\n",
              "</div><br><label><b>dtype:</b> int64</label>"
            ]
          },
          "metadata": {},
          "execution_count": 108
        }
      ]
    },
    {
      "cell_type": "code",
      "source": [
        "print(sd_cleaned.head())"
      ],
      "metadata": {
        "colab": {
          "base_uri": "https://localhost:8080/"
        },
        "id": "BjSKv8cRiMo1",
        "outputId": "3290fd5a-3b43-49c9-d6be-fccbc19657ce"
      },
      "execution_count": null,
      "outputs": [
        {
          "output_type": "stream",
          "name": "stdout",
          "text": [
            "  Transaction Date Customer ID  \\\n",
            "0   12/1/2020 8:26     17850.0   \n",
            "1   12/1/2020 8:34     13047.0   \n",
            "2   12/1/2020 8:34     13047.0   \n",
            "3   12/1/2020 9:00     13748.0   \n",
            "4   12/1/2020 9:02     17850.0   \n",
            "\n",
            "                                         Description Stock Code  Invoice No  \\\n",
            "0                                 dog and puppy pads     85123a    536365.0   \n",
            "1                                pet odor eliminator      84879    536367.0   \n",
            "2                      rechargeable pet nail grinder      22960    536368.0   \n",
            "3  litter slide multi-cat scented clumping clay c...      22086    536371.0   \n",
            "4                                 dog and puppy pads     85123a    536373.0   \n",
            "\n",
            "   Quantity   Sales  Unit Price  \n",
            "0         1   15.30       15.30  \n",
            "1         6   60.84       10.14  \n",
            "2         1   25.50       25.50  \n",
            "3        14  214.20       15.30  \n",
            "4         1   15.30       15.30  \n"
          ]
        }
      ]
    },
    {
      "cell_type": "code",
      "source": [
        "sd_cleaned.shape"
      ],
      "metadata": {
        "colab": {
          "base_uri": "https://localhost:8080/"
        },
        "id": "mWr3I2hawSPd",
        "outputId": "2bb46bc0-28fc-42e0-ca22-f9f6d655ebe5"
      },
      "execution_count": null,
      "outputs": [
        {
          "output_type": "execute_result",
          "data": {
            "text/plain": [
              "(24342, 8)"
            ]
          },
          "metadata": {},
          "execution_count": 106
        }
      ]
    },
    {
      "cell_type": "code",
      "source": [
        "sd_cleaned.to_csv(\"clean_sales_3.csv\", index=False)"
      ],
      "metadata": {
        "id": "k0zYOM0oMg5I"
      },
      "execution_count": null,
      "outputs": []
    }
  ],
  "metadata": {
    "colab": {
      "provenance": []
    },
    "kernelspec": {
      "display_name": "Python 3",
      "name": "python3"
    },
    "language_info": {
      "name": "python"
    }
  },
  "nbformat": 4,
  "nbformat_minor": 0
}